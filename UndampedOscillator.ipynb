{
  "nbformat": 4,
  "nbformat_minor": 0,
  "metadata": {
    "colab": {
      "provenance": []
    },
    "kernelspec": {
      "name": "python3",
      "display_name": "Python 3"
    },
    "language_info": {
      "name": "python"
    }
  },
  "cells": [
    {
      "cell_type": "code",
      "execution_count": null,
      "metadata": {
        "id": "LkBjp506HLMV"
      },
      "outputs": [],
      "source": [
        "# import the packages and setup the system\n",
        "\n",
        "import numpy as np\n",
        "import tensorflow as tf\n",
        "import pandas as pd # though we won't need this very much\n",
        "import matplotlib.pyplot as plt\n",
        "import seaborn as sns\n",
        "\n",
        "# set the datatype\n",
        "tf.keras.backend.set_floatx('float32')\n",
        "\n",
        "# initialize and set the constants for convenience\n",
        "w = tf.constant(2,dtype='float32')\n",
        "x_0 = tf.constant(10,dtype='float32')\n",
        "x_dot_0 = tf.constant(0,dtype='float32')\n",
        "pi = tf.constant(np.pi,dtype='float32')\n",
        "\n",
        "# Define initial conditions\n",
        "def fun_x_0(t):\n",
        "  return tf.ones((t.shape[0],1),dtype='float32')*x_0\n",
        "\n",
        "def fun_x_dot_0(t):\n",
        "  return tf.ones((t.shape[0],1),dtype='float32')*x_dot_0\n",
        "\n",
        "# Define the residual\n",
        "def fun_r(t,x,x_t,x_tt):\n",
        "  return x_tt+w*w*x"
      ]
    },
    {
      "cell_type": "code",
      "source": [
        "\n",
        "# Set the limits for t, Here we create two 1D tensors, ll and ul (lowerlimit and upper limit)\n",
        "tmax = 2*pi\n",
        "tmin = 0\n",
        "\n",
        "ll = [tmin]\n",
        "ul = [tmax]\n",
        "\n",
        "# Set the random seed for reproducible results\n",
        "tf.random.set_seed(0)"
      ],
      "metadata": {
        "id": "D6fr6-O9IhGs"
      },
      "execution_count": null,
      "outputs": []
    },
    {
      "cell_type": "code",
      "source": [
        "# The number of data points used for loss function evaluation\n",
        "N_0 = 1\n",
        "N_r = 10000"
      ],
      "metadata": {
        "id": "rHta-a9ZJCft"
      },
      "execution_count": null,
      "outputs": []
    },
    {
      "cell_type": "code",
      "source": [
        "# Now its time to create datasets satisfying the boundary conditions\n",
        "\n",
        "# INITIAL DATA\n",
        "# t = 0\n",
        "t_0 = tf.zeros((N_0,1),dtype='float32')\n",
        "\n",
        "# We can evaluate the initial conditions\n",
        "X_0 = fun_x_0(t_0)\n",
        "X_dot_0 = fun_x_dot_0(t_0)\n",
        "\n",
        "# Collocation Points\n",
        "# t is drawn randomly with uniform distribution\n",
        "t_r = tf.random.uniform((N_r,1),ll[0],ul[0],dtype='float32')\n",
        "\n",
        "# We won't calculate the residual yet because we don't know the derivatives"
      ],
      "metadata": {
        "id": "T9pqvVZEJJVv"
      },
      "execution_count": null,
      "outputs": []
    },
    {
      "cell_type": "code",
      "source": [
        "## Lets setup the network architecture\n",
        "# This is done using the tensorflow keras API\n",
        "\n",
        "def init__model(num_hiddenlayers=8,num_neurons_perlayer=20,act_fn='tanh'):\n",
        "    model = tf.keras.Sequential()\n",
        "    \n",
        "    # Add input layer\n",
        "    model.add(tf.keras.Input(1))\n",
        "    \n",
        "    # Add scalin layer\n",
        "    scaling_layer = tf.keras.layers.Lambda(lambda t:2.0*(t-tmin)/(tmax-tmin)-1.0)\n",
        "    model.add(scaling_layer)\n",
        "    \n",
        "    # Add the hidden layers\n",
        "    for i in range(num_hiddenlayers):\n",
        "        model.add(tf.keras.layers.Dense(num_neurons_perlayer,activation=\n",
        "                                       act_fn,kernel_initializer='glorot_normal'))\n",
        "    \n",
        "    # Add output layer\n",
        "    model.add(tf.keras.layers.Dense(1))\n",
        "    \n",
        "    return model"
      ],
      "metadata": {
        "id": "1wWyckl_J_9y"
      },
      "execution_count": null,
      "outputs": []
    },
    {
      "cell_type": "code",
      "source": [
        "## Now we need to compute the residual for our loss function\n",
        "# for that we need derivatives we use tf.Gradienttape\n",
        "\n",
        "def get_loss(model,t_r,t_0,X_0,X_dot_0):\n",
        "\n",
        "  with tf.GradientTape(persistent=True) as tape:\n",
        "\n",
        "    tape.watch(t_r)\n",
        "\n",
        "    # Find u (output of the model)\n",
        "    x = model(t_r)\n",
        "    t = tf.zeros((t_r.shape[0],1),dtype='float32')\n",
        "    x_t = tape.gradient(x,t_r)\n",
        "    x_tt = tape.gradient(x_t,t_r)\n",
        "  \n",
        "  del tape\n",
        "  with tf.GradientTape(persistent=True) as tape:\n",
        "\n",
        "    tape.watch(t_0)\n",
        "\n",
        "    # Find u (output of the model)\n",
        "    x0 = model(t_0)\n",
        "    x_t0 = tape.gradient(x0,t_0)\n",
        "  \n",
        "  del tape\n",
        "  return tf.reduce_mean(tf.square(fun_r(t_r,x,x_t,x_tt))) + tf.reduce_mean(tf.square(x0-X_0)) + tf.reduce_mean(tf.square(x_t0-X_dot_0))"
      ],
      "metadata": {
        "id": "oOGMRvIkKWls"
      },
      "execution_count": null,
      "outputs": []
    },
    {
      "cell_type": "code",
      "source": [
        "## To calculate the gradient with respect to parameters\n",
        "def get_grad(model, t_r,t_0,X_0,X_dot_0):\n",
        "    \n",
        "    with tf.GradientTape(persistent=True) as tape:\n",
        "        # This tape is for derivatives with\n",
        "        # respect to trainable variables\n",
        "        tape.watch(model.trainable_variables)\n",
        "        loss = get_loss(model, t_r,t_0,X_0,X_dot_0)\n",
        "\n",
        "    g = tape.gradient(loss, model.trainable_variables)\n",
        "    del tape\n",
        "\n",
        "    return loss, g"
      ],
      "metadata": {
        "id": "VJouPsAwMNpi"
      },
      "execution_count": null,
      "outputs": []
    },
    {
      "cell_type": "code",
      "source": [
        "## Set up the optimizer and train the model\n",
        "\n",
        "model = init__model()\n",
        "\n",
        "# We choose a piecewise decay of the learning rate, i.e., the\n",
        "# step size in the gradient descent type algorithm\n",
        "# the first 1000 steps use a learning rate of 0.01\n",
        "# from 1000 - 3000: learning rate = 0.001\n",
        "# from 3000 onwards: learning rate = 0.0005\n",
        "\n",
        "lr = tf.keras.optimizers.schedules.PiecewiseConstantDecay([1000,3000],[1e-2,1e-3,5e-4])\n",
        "\n",
        "# Choose the optimizer\n",
        "optim = tf.keras.optimizers.Adam(learning_rate=lr)"
      ],
      "metadata": {
        "id": "gdHRyZghMQba"
      },
      "execution_count": null,
      "outputs": []
    },
    {
      "cell_type": "code",
      "source": [
        "# Train the model\n",
        "\n",
        "from time import time\n",
        "\n",
        "# Define one training step as a TensorFlow function to increase speed of training\n",
        "@tf.function\n",
        "def train_step():\n",
        "    # Compute current loss and gradient w.r.t. parameters\n",
        "    loss, grad_theta = get_grad(model, t_r,t_0,X_0,X_dot_0)\n",
        "    \n",
        "    # Perform gradient descent step\n",
        "    optim.apply_gradients(zip(grad_theta, model.trainable_variables))\n",
        "    \n",
        "    return loss\n",
        "\n",
        "# Number of training epochs\n",
        "N = 5000\n",
        "hist = []\n",
        "\n",
        "# Start timer\n",
        "t0 = time()\n",
        "\n",
        "for i in range(N+1):\n",
        "    \n",
        "    loss = train_step()\n",
        "    \n",
        "    # Append current loss to hist\n",
        "    hist.append(loss.numpy())\n",
        "    \n",
        "    # Output current loss after 50 iterates\n",
        "    if i%50 == 0:\n",
        "        print('It {:05d}: loss = {:10.8e}'.format(i,loss))\n",
        "        \n",
        "# Print computation time\n",
        "print('\\nComputation time: {} seconds'.format(time()-t0))"
      ],
      "metadata": {
        "colab": {
          "base_uri": "https://localhost:8080/"
        },
        "id": "-44lb6hwMdJU",
        "outputId": "bb396b5f-86ad-46ca-aec8-88c008d10fd5"
      },
      "execution_count": null,
      "outputs": [
        {
          "output_type": "stream",
          "name": "stderr",
          "text": [
            "WARNING:tensorflow:Calling GradientTape.gradient on a persistent tape inside its context is significantly less efficient than calling it outside the context (it causes the gradient ops to be recorded on the tape, leading to increased CPU and memory usage). Only call GradientTape.gradient inside the context if you actually want to trace the gradient in order to compute higher order derivatives.\n"
          ]
        },
        {
          "output_type": "stream",
          "name": "stdout",
          "text": [
            "It 00000: loss = 9.51470337e+01\n",
            "It 00050: loss = 4.58474922e+01\n",
            "It 00100: loss = 3.85951233e+01\n",
            "It 00150: loss = 2.85013142e+01\n",
            "It 00200: loss = 2.33087463e+01\n",
            "It 00250: loss = 2.13171520e+01\n",
            "It 00300: loss = 2.05535851e+01\n",
            "It 00350: loss = 2.02803936e+01\n",
            "It 00400: loss = 2.19913502e+01\n",
            "It 00450: loss = 1.50264006e+01\n",
            "It 00500: loss = 1.91213398e+01\n",
            "It 00550: loss = 1.34867382e+01\n",
            "It 00600: loss = 1.83202248e+01\n",
            "It 00650: loss = 9.66150379e+00\n",
            "It 00700: loss = 1.18490000e+01\n",
            "It 00750: loss = 9.88692188e+00\n",
            "It 00800: loss = 8.39960766e+00\n",
            "It 00850: loss = 5.21776533e+00\n",
            "It 00900: loss = 6.02342272e+00\n",
            "It 00950: loss = 9.77561283e+00\n",
            "It 01000: loss = 6.70087624e+00\n",
            "It 01050: loss = 2.16001725e+00\n",
            "It 01100: loss = 1.83067262e+00\n",
            "It 01150: loss = 1.54513443e+00\n",
            "It 01200: loss = 1.27530336e+00\n",
            "It 01250: loss = 1.02314067e+00\n",
            "It 01300: loss = 7.95751691e-01\n",
            "It 01350: loss = 6.00968361e-01\n",
            "It 01400: loss = 4.44006771e-01\n",
            "It 01450: loss = 3.24804425e-01\n",
            "It 01500: loss = 2.37962201e-01\n",
            "It 01550: loss = 1.75763473e-01\n",
            "It 01600: loss = 1.31278113e-01\n",
            "It 01650: loss = 9.94403809e-02\n",
            "It 01700: loss = 7.66941756e-02\n",
            "It 01750: loss = 6.04779422e-02\n",
            "It 01800: loss = 4.89180423e-02\n",
            "It 01850: loss = 4.06378247e-02\n",
            "It 01900: loss = 3.46421860e-02\n",
            "It 01950: loss = 3.02181076e-02\n",
            "It 02000: loss = 2.68667117e-02\n",
            "It 02050: loss = 2.42459867e-02\n",
            "It 02100: loss = 2.21265368e-02\n",
            "It 02150: loss = 2.03565545e-02\n",
            "It 02200: loss = 1.88375860e-02\n",
            "It 02250: loss = 1.75056830e-02\n",
            "It 02300: loss = 1.63182653e-02\n",
            "It 02350: loss = 1.52478581e-02\n",
            "It 02400: loss = 1.42746773e-02\n",
            "It 02450: loss = 1.33848237e-02\n",
            "It 02500: loss = 1.25676254e-02\n",
            "It 02550: loss = 1.18149193e-02\n",
            "It 02600: loss = 1.11194877e-02\n",
            "It 02650: loss = 1.04758199e-02\n",
            "It 02700: loss = 9.87873878e-03\n",
            "It 02750: loss = 9.32382047e-03\n",
            "It 02800: loss = 8.80733319e-03\n",
            "It 02850: loss = 8.32565408e-03\n",
            "It 02900: loss = 7.87556544e-03\n",
            "It 02950: loss = 7.45437434e-03\n",
            "It 03000: loss = 7.05958391e-03\n",
            "It 03050: loss = 6.86696451e-03\n",
            "It 03100: loss = 6.68187207e-03\n",
            "It 03150: loss = 6.50006114e-03\n",
            "It 03200: loss = 6.32172264e-03\n",
            "It 03250: loss = 6.14670012e-03\n",
            "It 03300: loss = 5.97478170e-03\n",
            "It 03350: loss = 5.80632454e-03\n",
            "It 03400: loss = 5.64104179e-03\n",
            "It 03450: loss = 5.47880400e-03\n",
            "It 03500: loss = 5.31986449e-03\n",
            "It 03550: loss = 5.16392989e-03\n",
            "It 03600: loss = 5.01104631e-03\n",
            "It 03650: loss = 4.86118300e-03\n",
            "It 03700: loss = 4.71438793e-03\n",
            "It 03750: loss = 4.57059965e-03\n",
            "It 03800: loss = 4.42967098e-03\n",
            "It 03850: loss = 4.29174118e-03\n",
            "It 03900: loss = 4.15665377e-03\n",
            "It 03950: loss = 4.02431982e-03\n",
            "It 04000: loss = 3.89494584e-03\n",
            "It 04050: loss = 3.76836560e-03\n",
            "It 04100: loss = 3.64456302e-03\n",
            "It 04150: loss = 3.52352695e-03\n",
            "It 04200: loss = 3.40534351e-03\n",
            "It 04250: loss = 3.28979758e-03\n",
            "It 04300: loss = 3.17697320e-03\n",
            "It 04350: loss = 3.06693977e-03\n",
            "It 04400: loss = 2.95960205e-03\n",
            "It 04450: loss = 2.85492861e-03\n",
            "It 04500: loss = 2.75294995e-03\n",
            "It 04550: loss = 2.65367399e-03\n",
            "It 04600: loss = 2.55707838e-03\n",
            "It 04650: loss = 2.46314029e-03\n",
            "It 04700: loss = 2.37180712e-03\n",
            "It 04750: loss = 2.28315615e-03\n",
            "It 04800: loss = 2.19721836e-03\n",
            "It 04850: loss = 2.11379142e-03\n",
            "It 04900: loss = 2.03297380e-03\n",
            "It 04950: loss = 1.95477041e-03\n",
            "It 05000: loss = 1.87914795e-03\n",
            "\n",
            "Computation time: 475.84800815582275 seconds\n"
          ]
        }
      ]
    },
    {
      "cell_type": "code",
      "source": [
        "\n",
        "\n",
        "x_pred = model(t_r)\n",
        "plt.scatter(t_r,x_pred,color='green',alpha=0.1)\n",
        "plt.ylim(-15,15)\n",
        "plt.xlabel('time')\n",
        "plt.ylabel('Displacement')\n",
        "plt.show()"
      ],
      "metadata": {
        "colab": {
          "base_uri": "https://localhost:8080/",
          "height": 283
        },
        "id": "z2qg4I98SHH6",
        "outputId": "205a5f10-2c66-4b44-f57b-1384bd7f509b"
      },
      "execution_count": null,
      "outputs": [
        {
          "output_type": "display_data",
          "data": {
            "text/plain": [
              "<Figure size 432x288 with 1 Axes>"
            ],
            "image/png": "[encoded data removed]"
          },
          "metadata": {
            "needs_background": "light"
          }
        }
      ]
    },
    {
      "cell_type": "code",
      "source": [],
      "metadata": {
        "id": "6sMzhOgmWh7J"
      },
      "execution_count": null,
      "outputs": []
    },
    {
      "cell_type": "code",
      "source": [
        "with tf.GradientTape(persistent=True) as tape:\n",
        "  tape.watch(t_r)\n",
        "  x = model(t_r)\n",
        "  x_t = tape.gradient(x,t_r)\n",
        "  x_tt = tape.gradient(x_t,t_r)\n",
        "\n",
        "  plt.scatter(t_r,x_tt,marker='.',alpha=0.1,color='green')\n",
        "  plt.xlabel('time')\n",
        "  plt.ylabel('Acceleration')\n",
        "  plt.show()"
      ],
      "metadata": {
        "colab": {
          "base_uri": "https://localhost:8080/",
          "height": 334
        },
        "id": "35t56_ry9d6f",
        "outputId": "54f6fa0e-51a5-40ca-ce9c-c58ed9b6794d"
      },
      "execution_count": null,
      "outputs": [
        {
          "output_type": "stream",
          "name": "stderr",
          "text": [
            "WARNING:tensorflow:Calling GradientTape.gradient on a persistent tape inside its context is significantly less efficient than calling it outside the context (it causes the gradient ops to be recorded on the tape, leading to increased CPU and memory usage). Only call GradientTape.gradient inside the context if you actually want to trace the gradient in order to compute higher order derivatives.\n",
            "WARNING:tensorflow:Calling GradientTape.gradient on a persistent tape inside its context is significantly less efficient than calling it outside the context (it causes the gradient ops to be recorded on the tape, leading to increased CPU and memory usage). Only call GradientTape.gradient inside the context if you actually want to trace the gradient in order to compute higher order derivatives.\n"
          ]
        },
        {
          "output_type": "display_data",
          "data": {
            "text/plain": [
              "<Figure size 432x288 with 1 Axes>"
            ],
            "image/png": "[encoded data removed]"
          },
          "metadata": {
            "needs_background": "light"
          }
        }
      ]
    },
    {
      "cell_type": "code",
      "source": [
        "plt.scatter(t_r,x_t,marker='.',alpha=0.1,color='red')\n",
        "plt.xlabel('time')\n",
        "plt.ylabel('Velocity')\n",
        "plt.show()"
      ],
      "metadata": {
        "colab": {
          "base_uri": "https://localhost:8080/",
          "height": 279
        },
        "id": "OO-2mATAX0dc",
        "outputId": "fea8a461-6388-4a4b-deab-f5e613fdae84"
      },
      "execution_count": null,
      "outputs": [
        {
          "output_type": "display_data",
          "data": {
            "text/plain": [
              "<Figure size 432x288 with 1 Axes>"
            ],
            "image/png": "[encoded data removed]"
          },
          "metadata": {
            "needs_background": "light"
          }
        }
      ]
    },
    {
      "cell_type": "code",
      "source": [
        "## Plot the loss\n",
        "fig = plt.figure(figsize=(9,6))\n",
        "ax = fig.add_subplot(111)\n",
        "ax.semilogy(range(len(hist)), hist,'k-')\n",
        "ax.set_xlabel('$n_{epoch}$')\n",
        "ax.set_ylabel('$\\\\phi_{n_{epoch}}$');"
      ],
      "metadata": {
        "colab": {
          "base_uri": "https://localhost:8080/",
          "height": 390
        },
        "id": "H8zpK_99TVDl",
        "outputId": "f7214aaf-eef2-4332-e0e9-2865bdb48383"
      },
      "execution_count": null,
      "outputs": [
        {
          "output_type": "display_data",
          "data": {
            "text/plain": [
              "<Figure size 648x432 with 1 Axes>"
            ],
            "image/png": "[encoded data removed]"
          },
          "metadata": {
            "needs_background": "light"
          }
        }
      ]
    },
    {
      "cell_type": "code",
      "source": [
        "# Compute the accuracy by comparing with the analytical solution\n",
        "\n",
        "def g(t):\n",
        "  return 10*np.cos(w*t)\n",
        "\n",
        "loss = 0\n",
        "\n",
        "for i in range(len(t_r)):\n",
        "  loss+=((x_pred[i]-g(t_r[i]))**2)\n",
        "\n",
        "loss/=(N_r)\n",
        "print(loss)"
      ],
      "metadata": {
        "id": "AxM_NcOHkj1D",
        "colab": {
          "base_uri": "https://localhost:8080/"
        },
        "outputId": "83ed9462-0aec-43f7-a795-914ab5938e20"
      },
      "execution_count": null,
      "outputs": [
        {
          "output_type": "stream",
          "name": "stdout",
          "text": [
            "tf.Tensor([2.2957638e-05], shape=(1,), dtype=float32)\n"
          ]
        }
      ]
    },
    {
      "cell_type": "markdown",
      "source": [
        "Thus, the solution has an average error of 0.0023 %"
      ],
      "metadata": {
        "id": "H5rVcNHTYJ7D"
      }
    }
  ]
}